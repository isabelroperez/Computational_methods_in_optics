{
 "cells": [
  {
   "cell_type": "markdown",
   "id": "ac37ebcc",
   "metadata": {},
   "source": [
    "# Ejercicios Tema 3. Numpy & Scipy"
   ]
  },
  {
   "cell_type": "markdown",
   "id": "d72f3146",
   "metadata": {
    "toc": true
   },
   "source": [
    "<h1>Tabla de Contenidos<span class=\"tocSkip\"></span></h1>\n",
    "<div class=\"toc\"><ul class=\"toc-item\"><li><span><a href=\"#Ejercicio-3.4.1\" data-toc-modified-id=\"Ejercicio-3.4.1-1\"><span class=\"toc-item-num\">1&nbsp;&nbsp;</span>Ejercicio 3.4.1</a></span></li><li><span><a href=\"#Ejercicio-3.10\" data-toc-modified-id=\"Ejercicio-3.10-2\"><span class=\"toc-item-num\">2&nbsp;&nbsp;</span>Ejercicio 3.10</a></span></li><li><span><a href=\"#Ejercicio3.12.3\" data-toc-modified-id=\"Ejercicio3.12.3-3\"><span class=\"toc-item-num\">3&nbsp;&nbsp;</span>Ejercicio3.12.3</a></span></li><li><span><a href=\"#Ejercicio-3.13.2\" data-toc-modified-id=\"Ejercicio-3.13.2-4\"><span class=\"toc-item-num\">4&nbsp;&nbsp;</span>Ejercicio 3.13.2</a></span></li><li><span><a href=\"#Ejercicio-3.13.4\" data-toc-modified-id=\"Ejercicio-3.13.4-5\"><span class=\"toc-item-num\">5&nbsp;&nbsp;</span>Ejercicio 3.13.4</a></span></li></ul></div>"
   ]
  },
  {
   "cell_type": "code",
   "execution_count": 1,
   "id": "0273eb07",
   "metadata": {
    "init_cell": true
   },
   "outputs": [
    {
     "name": "stdout",
     "output_type": "stream",
     "text": [
      "Running initialization\n",
      "Initialization done\n"
     ]
    }
   ],
   "source": [
    "print('Running initialization')\n",
    "\n",
    "\n",
    "# Configuramos el notebook para que enseñe todos los resultados evaluados en una celda\n",
    "from IPython.core.interactiveshell import InteractiveShell\n",
    "InteractiveShell.ast_node_interactivity = \"all\"\n",
    "\n",
    "# Configure notebook to show high-res graphics\n",
    "%config InlineBackend.figure_format = 'retina'  # gráficos en alta resolución\n",
    "\n",
    "# Magic command for making plots interactive (zoomable): select one\n",
    "#%matplotlib notebook\n",
    "%matplotlib inline\n",
    "\n",
    "#Configure graphics\n",
    "from matplotlib import rcParams\n",
    "rcParams['savefig.dpi'] = 200\n",
    "rcParams['figure.dpi'] = 200\n",
    "rcParams['figure.figsize'] = [3,2]\n",
    "\n",
    "# to display animations in jupyter\n",
    "from IPython.display import HTML  \n",
    "\n",
    "# pretty print\n",
    "from pprint import pprint\n",
    "\n",
    "# Advanced math\n",
    "import numpy as np\n",
    "\n",
    "# Advanced graphics\n",
    "import matplotlib.pyplot as plt\n",
    "\n",
    "print('Initialization done')"
   ]
  },
  {
   "cell_type": "markdown",
   "id": "2088da65",
   "metadata": {},
   "source": [
    "## Ejercicio 3.4.1"
   ]
  },
  {
   "cell_type": "code",
   "execution_count": null,
   "id": "3622af34",
   "metadata": {},
   "outputs": [],
   "source": [
    "# Apartado 1\n",
    "#a es el eje 0\n",
    "#c es el eje 1\n",
    "#b es el eje 2\n",
    "#d es el eje 3\n",
    "\n",
    "# Apartado 2\n",
    "# [2=a,1=c,0=b,1=d] en a no hay 3 filas luego este elemento no existe en nuestra matriz\n",
    "\n",
    "# Apartado 3\n",
    "matix[0,0,0,0]=1; \n",
    "matix[0,0,0,1]=27;\n",
    "matix[0,0,0,2]=38;\n",
    "matix[0,0,1,0]=12;\n",
    "matix[0,0,1,1]=17;\n",
    "\n"
   ]
  },
  {
   "cell_type": "markdown",
   "id": "575bd328",
   "metadata": {},
   "source": [
    "## Ejercicio 3.10"
   ]
  },
  {
   "cell_type": "code",
   "execution_count": 13,
   "id": "54e2974c",
   "metadata": {},
   "outputs": [
    {
     "name": "stdout",
     "output_type": "stream",
     "text": [
      "[0.   0.04 0.08 0.12 0.16 0.2  0.24 0.28 0.32 0.36]\n",
      "100\n",
      "Seno de y-----------------------------------------------------------\n",
      "[0.         0.03998933 0.07991469 0.11971221 0.15931821 0.19866933\n",
      " 0.23770263 0.27635565 0.31456656 0.35227423]\n",
      "Matriz derivada y-----------------------------------------------------------\n",
      "[[ 12.5   0.    0.    0.    0.    0.    0.    0.    0.    0.    0.    0.\n",
      "    0.    0.    0.    0.    0.    0.    0.    0.    0.    0.    0.    0.\n",
      "    0.    0.    0.    0.    0.    0.    0.    0.    0.    0.    0.    0.\n",
      "    0.    0.    0.    0.    0.    0.    0.    0.    0.    0.    0.    0.\n",
      "    0.    0.    0.    0.    0.    0.    0.    0.    0.    0.    0.    0.\n",
      "    0.    0.    0.    0.    0.    0.    0.    0.    0.    0.    0.    0.\n",
      "    0.    0.    0.    0.    0.    0.    0.    0.    0.    0.    0.    0.\n",
      "    0.    0.    0.    0.    0.    0.    0.    0.    0.    0.    0.    0.\n",
      "    0.    0.  -12.5   0. ]\n",
      " [  0.   12.5   0.    0.    0.    0.    0.    0.    0.    0.    0.    0.\n",
      "    0.    0.    0.    0.    0.    0.    0.    0.    0.    0.    0.    0.\n",
      "    0.    0.    0.    0.    0.    0.    0.    0.    0.    0.    0.    0.\n",
      "    0.    0.    0.    0.    0.    0.    0.    0.    0.    0.    0.    0.\n",
      "    0.    0.    0.    0.    0.    0.    0.    0.    0.    0.    0.    0.\n",
      "    0.    0.    0.    0.    0.    0.    0.    0.    0.    0.    0.    0.\n",
      "    0.    0.    0.    0.    0.    0.    0.    0.    0.    0.    0.    0.\n",
      "    0.    0.    0.    0.    0.    0.    0.    0.    0.    0.    0.    0.\n",
      "    0.    0.    0.  -12.5]\n",
      " [-12.5   0.   12.5   0.    0.    0.    0.    0.    0.    0.    0.    0.\n",
      "    0.    0.    0.    0.    0.    0.    0.    0.    0.    0.    0.    0.\n",
      "    0.    0.    0.    0.    0.    0.    0.    0.    0.    0.    0.    0.\n",
      "    0.    0.    0.    0.    0.    0.    0.    0.    0.    0.    0.    0.\n",
      "    0.    0.    0.    0.    0.    0.    0.    0.    0.    0.    0.    0.\n",
      "    0.    0.    0.    0.    0.    0.    0.    0.    0.    0.    0.    0.\n",
      "    0.    0.    0.    0.    0.    0.    0.    0.    0.    0.    0.    0.\n",
      "    0.    0.    0.    0.    0.    0.    0.    0.    0.    0.    0.    0.\n",
      "    0.    0.    0.    0. ]\n",
      " [  0.  -12.5   0.   12.5   0.    0.    0.    0.    0.    0.    0.    0.\n",
      "    0.    0.    0.    0.    0.    0.    0.    0.    0.    0.    0.    0.\n",
      "    0.    0.    0.    0.    0.    0.    0.    0.    0.    0.    0.    0.\n",
      "    0.    0.    0.    0.    0.    0.    0.    0.    0.    0.    0.    0.\n",
      "    0.    0.    0.    0.    0.    0.    0.    0.    0.    0.    0.    0.\n",
      "    0.    0.    0.    0.    0.    0.    0.    0.    0.    0.    0.    0.\n",
      "    0.    0.    0.    0.    0.    0.    0.    0.    0.    0.    0.    0.\n",
      "    0.    0.    0.    0.    0.    0.    0.    0.    0.    0.    0.    0.\n",
      "    0.    0.    0.    0. ]\n",
      " [  0.    0.  -12.5   0.   12.5   0.    0.    0.    0.    0.    0.    0.\n",
      "    0.    0.    0.    0.    0.    0.    0.    0.    0.    0.    0.    0.\n",
      "    0.    0.    0.    0.    0.    0.    0.    0.    0.    0.    0.    0.\n",
      "    0.    0.    0.    0.    0.    0.    0.    0.    0.    0.    0.    0.\n",
      "    0.    0.    0.    0.    0.    0.    0.    0.    0.    0.    0.    0.\n",
      "    0.    0.    0.    0.    0.    0.    0.    0.    0.    0.    0.    0.\n",
      "    0.    0.    0.    0.    0.    0.    0.    0.    0.    0.    0.    0.\n",
      "    0.    0.    0.    0.    0.    0.    0.    0.    0.    0.    0.    0.\n",
      "    0.    0.    0.    0. ]\n",
      " [  0.    0.    0.  -12.5   0.   12.5   0.    0.    0.    0.    0.    0.\n",
      "    0.    0.    0.    0.    0.    0.    0.    0.    0.    0.    0.    0.\n",
      "    0.    0.    0.    0.    0.    0.    0.    0.    0.    0.    0.    0.\n",
      "    0.    0.    0.    0.    0.    0.    0.    0.    0.    0.    0.    0.\n",
      "    0.    0.    0.    0.    0.    0.    0.    0.    0.    0.    0.    0.\n",
      "    0.    0.    0.    0.    0.    0.    0.    0.    0.    0.    0.    0.\n",
      "    0.    0.    0.    0.    0.    0.    0.    0.    0.    0.    0.    0.\n",
      "    0.    0.    0.    0.    0.    0.    0.    0.    0.    0.    0.    0.\n",
      "    0.    0.    0.    0. ]\n",
      " [  0.    0.    0.    0.  -12.5   0.   12.5   0.    0.    0.    0.    0.\n",
      "    0.    0.    0.    0.    0.    0.    0.    0.    0.    0.    0.    0.\n",
      "    0.    0.    0.    0.    0.    0.    0.    0.    0.    0.    0.    0.\n",
      "    0.    0.    0.    0.    0.    0.    0.    0.    0.    0.    0.    0.\n",
      "    0.    0.    0.    0.    0.    0.    0.    0.    0.    0.    0.    0.\n",
      "    0.    0.    0.    0.    0.    0.    0.    0.    0.    0.    0.    0.\n",
      "    0.    0.    0.    0.    0.    0.    0.    0.    0.    0.    0.    0.\n",
      "    0.    0.    0.    0.    0.    0.    0.    0.    0.    0.    0.    0.\n",
      "    0.    0.    0.    0. ]\n",
      " [  0.    0.    0.    0.    0.  -12.5   0.   12.5   0.    0.    0.    0.\n",
      "    0.    0.    0.    0.    0.    0.    0.    0.    0.    0.    0.    0.\n",
      "    0.    0.    0.    0.    0.    0.    0.    0.    0.    0.    0.    0.\n",
      "    0.    0.    0.    0.    0.    0.    0.    0.    0.    0.    0.    0.\n",
      "    0.    0.    0.    0.    0.    0.    0.    0.    0.    0.    0.    0.\n",
      "    0.    0.    0.    0.    0.    0.    0.    0.    0.    0.    0.    0.\n",
      "    0.    0.    0.    0.    0.    0.    0.    0.    0.    0.    0.    0.\n",
      "    0.    0.    0.    0.    0.    0.    0.    0.    0.    0.    0.    0.\n",
      "    0.    0.    0.    0. ]\n",
      " [  0.    0.    0.    0.    0.    0.  -12.5   0.   12.5   0.    0.    0.\n",
      "    0.    0.    0.    0.    0.    0.    0.    0.    0.    0.    0.    0.\n",
      "    0.    0.    0.    0.    0.    0.    0.    0.    0.    0.    0.    0.\n",
      "    0.    0.    0.    0.    0.    0.    0.    0.    0.    0.    0.    0.\n",
      "    0.    0.    0.    0.    0.    0.    0.    0.    0.    0.    0.    0.\n",
      "    0.    0.    0.    0.    0.    0.    0.    0.    0.    0.    0.    0.\n",
      "    0.    0.    0.    0.    0.    0.    0.    0.    0.    0.    0.    0.\n",
      "    0.    0.    0.    0.    0.    0.    0.    0.    0.    0.    0.    0.\n",
      "    0.    0.    0.    0. ]\n",
      " [  0.    0.    0.    0.    0.    0.    0.  -12.5   0.   12.5   0.    0.\n",
      "    0.    0.    0.    0.    0.    0.    0.    0.    0.    0.    0.    0.\n",
      "    0.    0.    0.    0.    0.    0.    0.    0.    0.    0.    0.    0.\n",
      "    0.    0.    0.    0.    0.    0.    0.    0.    0.    0.    0.    0.\n",
      "    0.    0.    0.    0.    0.    0.    0.    0.    0.    0.    0.    0.\n",
      "    0.    0.    0.    0.    0.    0.    0.    0.    0.    0.    0.    0.\n",
      "    0.    0.    0.    0.    0.    0.    0.    0.    0.    0.    0.    0.\n",
      "    0.    0.    0.    0.    0.    0.    0.    0.    0.    0.    0.    0.\n",
      "    0.    0.    0.    0. ]]\n",
      "(100, 100)\n"
     ]
    },
    {
     "data": {
      "text/plain": [
       "'\"el problema del borde es que allí no están definidos los valores de una de las columnas\\nentonces coge el número del otro extremo de la matriz\\n'"
      ]
     },
     "execution_count": 13,
     "metadata": {},
     "output_type": "execute_result"
    },
    {
     "name": "stdout",
     "output_type": "stream",
     "text": [
      "Derivada Seno de a mano y-----------------------------------------------------------\n",
      "[8.77682861 9.62559619 0.99893367 0.99653591 0.99254391 0.98696404\n",
      " 0.97980525 0.97107897 0.96079918 0.94898231]\n",
      "[8.77682861 9.62559619 0.99893367 0.99653591 0.99254391 0.98696404\n",
      " 0.97980525 0.97107897 0.96079918 0.94898231]\n",
      "100\n",
      "Derivada Seno de np.dot y-----------------------------------------------------------\n",
      "[8.77682861 9.62559619 0.99893367 0.99653591 0.99254391 0.98696404\n",
      " 0.97980525 0.97107897 0.96079918 0.94898231]\n",
      "100\n",
      "Coseno de y-----------------------------------------------------------\n",
      "[1.         0.99920011 0.99680171 0.99280864 0.98722728 0.98006658\n",
      " 0.97133797 0.96105544 0.94923542 0.93589682]\n",
      "100\n",
      "Segunda derivada y: fórmula-----------------------------------------------------------\n",
      "[ 4.73731521e+02 -4.31293142e+02 -3.99840026e-02 -7.99040392e-02\n",
      " -1.19696247e-01 -1.59296965e-01 -1.98642843e-01 -2.37670934e-01\n",
      " -2.76318803e-01 -3.14524621e-01]\n",
      "100\n",
      "Segunda derivada y: aplicando 2 veces la primera derivada------------------------------------\n",
      "[ 1.18952162e+02  1.29217988e+02 -9.72236867e+01 -1.07863253e+02\n",
      " -7.98720819e-02 -1.19648374e-01 -1.59233255e-01 -1.98563396e-01\n",
      " -2.37575879e-01 -2.76208290e-01]\n",
      "100\n"
     ]
    }
   ],
   "source": [
    "pasoy=0.04\n",
    "yf=4\n",
    "y0=0\n",
    "puntos=(yf-y0)/pasoy\n",
    "a=np.arange(y0, yf, pasoy, dtype=np.float64)\n",
    "\n",
    "print(a[slice(10)])\n",
    "print(a.size)\n",
    "print('Seno de y-----------------------------------------------------------')\n",
    "y=np.sin(a)\n",
    "print(y[slice(10)])\n",
    "\n",
    "print('Matriz derivada y-----------------------------------------------------------')\n",
    "c=np.eye(a.size)  #matriz diagonal con unos\n",
    "derivada=np.array([((c[n+1]-c[n-1])/(2*pasoy)) for n in range(y0-1,a.size-1)])\n",
    "print(derivada[slice(10)])\n",
    "print(derivada.shape) \n",
    "\"\"\"\"el problema del borde es que allí no están definidos los valores de una de las columnas\n",
    "entonces coge el número del otro extremo de la matriz\n",
    "\"\"\"\n",
    "\n",
    "\n",
    "print('Derivada Seno de a mano y-----------------------------------------------------------')\n",
    "dyy=np.array([(y[n+1]-y[n-1])/(2*pasoy) for n in range(y0-1,a.size-1)])\n",
    "print(dyy[0:10])\n",
    "print(dyy[slice(10)])\n",
    "print(dyy.size)\n",
    "\n",
    "print('Derivada Seno de np.dot y-----------------------------------------------------------')\n",
    "devy=np.dot(derivada,y)\n",
    "print(devy[slice(10)])\n",
    "print(devy.size)\n",
    "\n",
    "print('Coseno de y-----------------------------------------------------------')\n",
    "check=np.cos(a)\n",
    "print(check[slice(10)])\n",
    "print(check.size)\n",
    "\n",
    "print('Segunda derivada y: fórmula-----------------------------------------------------------')\n",
    "derivada2=np.array([((c[n+1]-2*c[n]+c[n-1])/(pasoy**2)) for n in range(y0-1,a.size-1)])\n",
    "dev2y=np.dot(derivada2,y)\n",
    "print(dev2y[slice(10)])\n",
    "print(dev2y.size)\n",
    "\n",
    "print('Segunda derivada y: aplicando 2 veces la primera derivada------------------------------------')\n",
    "# a devy le volvemos a aplicar derivada\n",
    "dyy2=(np.dot(derivada,devy))\n",
    "print(dyy2[slice(10)])\n",
    "print(dyy2.size)\n",
    "\n",
    "\"\"\"\"obtenemos resultados parecidos en el caso de un gran número de puntos salvo en los bordes\n",
    "y están desplazados una unidad\n",
    "\"\"\"\n"
   ]
  },
  {
   "cell_type": "markdown",
   "id": "9daca4e1",
   "metadata": {},
   "source": [
    "## Ejercicio3.12.3"
   ]
  },
  {
   "cell_type": "code",
   "execution_count": 8,
   "id": "b3c9acc4",
   "metadata": {},
   "outputs": [
    {
     "name": "stdout",
     "output_type": "stream",
     "text": [
      "[[1 2 3]\n",
      " [4 5 6]]\n",
      "\n",
      "(0, 0)\n",
      "(0, 1)\n",
      "(0, 2)\n",
      "(1, 0)\n",
      "(1, 1)\n",
      "(1, 2)\n",
      "ha acabado\n",
      "[(0, 0), (0, 1), (0, 2), (1, 0), (1, 1), (1, 2)]\n"
     ]
    }
   ],
   "source": [
    "a=np.array(range(1,7)).reshape(2,3); print(a); print()\n",
    "\n",
    "it= np.nditer(a, flags=['multi_index'])\n",
    "\n",
    "b = list(0 for i in range(a.size))\n",
    "\n",
    "i=0\n",
    "sigue=True\n",
    "while sigue:\n",
    "    for el in it: \n",
    "        print(it.multi_index)\n",
    "        b[i]=it.multi_index\n",
    "        i=i+1\n",
    "    sigue=it.iternext()  \n",
    "else:\n",
    "    print('ha acabado')\n",
    "    \n",
    "print(b)"
   ]
  },
  {
   "cell_type": "markdown",
   "id": "e49f86c1",
   "metadata": {},
   "source": [
    "## Ejercicio 3.13.2"
   ]
  },
  {
   "cell_type": "code",
   "execution_count": 20,
   "id": "a4587e3f",
   "metadata": {},
   "outputs": [
    {
     "name": "stdout",
     "output_type": "stream",
     "text": [
      "[0.9 0.9 0.1 0.2 0.1 0.4 0.6 0.4 0.9 0.2 0.3 0.3 0.1 0.3 0.1 0.2 0.6 0.7\n",
      " 0.2 0.9 0.4 0.6 0.  0.6 0.3 0.6 0.1 0.7 0.1 0.5 0.7 0.3 0.5 0.5 0.8 0.2\n",
      " 0.9 0.2 0.7 0.5 0.9 0.1 0.1 0.5 0.2 0.8 0.1 0.4 0.7 0.2 0.7 0.1 0.4 0.3\n",
      " 0.4 0.9 1.  0.4 0.4 0.3 0.6 0.6 0.6 0.4 0.4 0.  0.1 0.5 0.6 0.8 0.6 0.5\n",
      " 0.8 0.4 0.5 0.1 0.2 0.4 0.6 0.6 0.2 0.9 0.3 0.8 0.6 0.9 0.3 0.8 0.3 0.1\n",
      " 1.  0.6 0.7 0.2 0.5 0.3 0.1 0.7 0.5 0.9]\n",
      "\n",
      "[0.  0.  0.1 0.2 0.1 0.  0.  0.  0.  0.2 0.  0.  0.1 0.  0.1 0.2 0.  0.\n",
      " 0.2 0.  0.  0.  0.  0.  0.  0.  0.1 0.  0.1 0.  0.  0.  0.  0.  0.  0.2\n",
      " 0.  0.2 0.  0.  0.  0.1 0.1 0.  0.2 0.  0.1 0.  0.  0.2 0.  0.1 0.  0.\n",
      " 0.  0.  0.  0.  0.  0.  0.  0.  0.  0.  0.  0.  0.1 0.  0.  0.  0.  0.\n",
      " 0.  0.  0.  0.1 0.2 0.  0.  0.  0.2 0.  0.  0.  0.  0.  0.  0.  0.  0.1\n",
      " 0.  0.  0.  0.2 0.  0.  0.1 0.  0.  0. ]\n",
      "[ 0.    0.05  0.1   0.   -0.1  -0.05  0.    0.    0.1   0.   -0.1   0.05\n",
      "  0.    0.    0.1  -0.05 -0.1   0.1   0.   -0.1   0.    0.    0.    0.\n",
      "  0.    0.05  0.    0.    0.   -0.05  0.    0.    0.    0.    0.1   0.\n",
      "  0.    0.   -0.1   0.    0.05  0.05 -0.05  0.05  0.   -0.05  0.   -0.05\n",
      "  0.1   0.   -0.05  0.   -0.05  0.    0.    0.    0.    0.    0.    0.\n",
      "  0.    0.    0.    0.    0.    0.05  0.   -0.05  0.    0.    0.    0.\n",
      "  0.    0.    0.05  0.1  -0.05 -0.1   0.    0.1   0.   -0.1   0.    0.\n",
      "  0.    0.    0.    0.    0.05  0.   -0.05  0.    0.1   0.   -0.1   0.05\n",
      "  0.   -0.05  0.    0.  ]\n"
     ]
    },
    {
     "data": {
      "text/plain": [
       "<matplotlib.image.AxesImage at 0x21b0d429d90>"
      ]
     },
     "execution_count": 20,
     "metadata": {},
     "output_type": "execute_result"
    },
    {
     "name": "stdout",
     "output_type": "stream",
     "text": [
      "[[ 0.   0.5  0.  ...  0.   0.   0. ]\n",
      " [-0.5  0.   0.5 ...  0.   0.   0. ]\n",
      " [ 0.  -0.5  0.  ...  0.   0.   0. ]\n",
      " ...\n",
      " [ 0.   0.   0.  ...  0.   0.5  0. ]\n",
      " [ 0.   0.   0.  ... -0.5  0.   0.5]\n",
      " [ 0.   0.   0.  ...  0.  -0.5  0. ]]\n",
      "Seno de y-----------------------------------------------------------\n",
      "[ 0.          0.84147098  0.90929743  0.14112001 -0.7568025  -0.95892427\n",
      " -0.2794155   0.6569866   0.98935825  0.41211849]\n",
      "Aplicando matriz dispersa al vector-----------------------------------------------------------\n",
      "-3.599999999999996\n"
     ]
    },
    {
     "data": {
      "image/png": "[encoded data removed]",
      "text/plain": [
       "<Figure size 600x400 with 1 Axes>"
      ]
     },
     "metadata": {
      "image/png": {
       "height": 398,
       "width": 396
      },
      "needs_background": "light"
     },
     "output_type": "display_data"
    }
   ],
   "source": [
    "paso=1\n",
    "yf=100\n",
    "y0=0\n",
    "puntos=(yf-y0)/paso\n",
    "a= np.round(np.random.rand(100),1); print(a); print()\n",
    "a=np.where(a>0.2, 0, a);\n",
    "print(a)\n",
    "from scipy.sparse import diags\n",
    "dy=diags([-1/(2*paso), 0, 1/(2*paso)], [-1, 0, 1], shape=(100, 100)).toarray()\n",
    "\n",
    "b=np.dot(dy,a) #b es la matriz dispersa sobre a\n",
    "print(b)\n",
    "plt.spy(dy)\n",
    "print(dy)\n",
    "\n",
    "# Aplicamos a un vector que tiene forma conocida\n",
    "c=np.arange(y0, yf, paso, dtype=np.float64)\n",
    "print('Seno de y-----------------------------------------------------------')\n",
    "y=np.sin(c)\n",
    "print(y[slice(10)])\n",
    "print('Aplicando matriz dispersa al vector-----------------------------------------------------------')\n",
    "d=np.dot(b,c)\n",
    "print(d)"
   ]
  },
  {
   "cell_type": "markdown",
   "id": "f7078c7b",
   "metadata": {},
   "source": [
    "## Ejercicio 3.13.4"
   ]
  },
  {
   "cell_type": "code",
   "execution_count": null,
   "id": "499f04b2",
   "metadata": {},
   "outputs": [],
   "source": []
  }
 ],
 "metadata": {
  "kernelspec": {
   "display_name": "Python 3 (ipykernel)",
   "language": "python",
   "name": "python3"
  },
  "language_info": {
   "codemirror_mode": {
    "name": "ipython",
    "version": 3
   },
   "file_extension": ".py",
   "mimetype": "text/x-python",
   "name": "python",
   "nbconvert_exporter": "python",
   "pygments_lexer": "ipython3",
   "version": "3.9.7"
  },
  "latex_envs": {
   "LaTeX_envs_menu_present": true,
   "autoclose": false,
   "autocomplete": true,
   "bibliofile": "biblio.bib",
   "cite_by": "apalike",
   "current_citInitial": 1,
   "eqLabelWithNumbers": true,
   "eqNumInitial": 1,
   "hotkeys": {
    "equation": "Ctrl-E",
    "itemize": "Ctrl-I"
   },
   "labels_anchors": false,
   "latex_user_defs": false,
   "report_style_numbering": false,
   "user_envs_cfg": false
  },
  "toc": {
   "base_numbering": 1,
   "nav_menu": {},
   "number_sections": true,
   "sideBar": true,
   "skip_h1_title": true,
   "title_cell": "Tabla de Contenidos",
   "title_sidebar": "Contents",
   "toc_cell": true,
   "toc_position": {},
   "toc_section_display": true,
   "toc_window_display": true
  }
 },
 "nbformat": 4,
 "nbformat_minor": 5
}
