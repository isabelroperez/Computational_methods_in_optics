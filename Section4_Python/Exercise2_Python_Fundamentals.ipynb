{
 "cells": [
  {
   "cell_type": "markdown",
   "id": "03025760",
   "metadata": {},
   "source": [
    "# Ejercicios Tema 2. Fundamentos de Python"
   ]
  },
  {
   "cell_type": "markdown",
   "id": "0d527276",
   "metadata": {
    "toc": true
   },
   "source": [
    "<h1>Tabla de Contenidos<span class=\"tocSkip\"></span></h1>\n",
    "<div class=\"toc\"><ul class=\"toc-item\"><li><span><a href=\"#Ejercicio-5:--Clases-y-docstrings\" data-toc-modified-id=\"Ejercicio-5:--Clases-y-docstrings-1\"><span class=\"toc-item-num\">1&nbsp;&nbsp;</span>Ejercicio 5:  Clases y docstrings</a></span></li><li><span><a href=\"#Ejercicio-7.2.4:-Definición-y-desempaquetado-de-listas\" data-toc-modified-id=\"Ejercicio-7.2.4:-Definición-y-desempaquetado-de-listas-2\"><span class=\"toc-item-num\">2&nbsp;&nbsp;</span>Ejercicio 7.2.4: Definición y desempaquetado de listas</a></span></li><li><span><a href=\"#Ejercicio-7.2.8:-Listas-de-listas-y-copias-de-listas\" data-toc-modified-id=\"Ejercicio-7.2.8:-Listas-de-listas-y-copias-de-listas-3\"><span class=\"toc-item-num\">3&nbsp;&nbsp;</span>Ejercicio 7.2.8: Listas de listas y copias de listas</a></span></li><li><span><a href=\"#Ejercicio-7.4.6\" data-toc-modified-id=\"Ejercicio-7.4.6-4\"><span class=\"toc-item-num\">4&nbsp;&nbsp;</span>Ejercicio 7.4.6</a></span></li><li><span><a href=\"#Ejercicio-7.5.2\" data-toc-modified-id=\"Ejercicio-7.5.2-5\"><span class=\"toc-item-num\">5&nbsp;&nbsp;</span>Ejercicio 7.5.2</a></span></li><li><span><a href=\"#Ejercicio-7.6.4\" data-toc-modified-id=\"Ejercicio-7.6.4-6\"><span class=\"toc-item-num\">6&nbsp;&nbsp;</span>Ejercicio 7.6.4</a></span></li><li><span><a href=\"#Ejercicio-9.7\" data-toc-modified-id=\"Ejercicio-9.7-7\"><span class=\"toc-item-num\">7&nbsp;&nbsp;</span>Ejercicio 9.7</a></span></li><li><span><a href=\"#Ejercicio-9.8.3\" data-toc-modified-id=\"Ejercicio-9.8.3-8\"><span class=\"toc-item-num\">8&nbsp;&nbsp;</span>Ejercicio 9.8.3</a></span></li><li><span><a href=\"#Ejercicio-10.2\" data-toc-modified-id=\"Ejercicio-10.2-9\"><span class=\"toc-item-num\">9&nbsp;&nbsp;</span>Ejercicio 10.2</a></span></li></ul></div>"
   ]
  },
  {
   "cell_type": "markdown",
   "id": "fa1a22d5",
   "metadata": {},
   "source": [
    "## Ejercicio 5:  Clases y docstrings"
   ]
  },
  {
   "cell_type": "code",
   "execution_count": 1,
   "id": "43bb0b4d",
   "metadata": {
    "init_cell": true
   },
   "outputs": [
    {
     "name": "stdout",
     "output_type": "stream",
     "text": [
      "Running initialization\n",
      "Initialization done\n"
     ]
    }
   ],
   "source": [
    "print('Running initialization')\n",
    "\n",
    "# Configuramos el notebook para que enseñe todos los resultados evaluados en una celda\n",
    "\n",
    "# Advanced math\n",
    "import numpy as np\n",
    "\n",
    "# Advanced graphics\n",
    "import matplotlib.pyplot as plt\n",
    "\n",
    "# Para numeros aleatorios\n",
    "import random\n",
    "\n",
    "print('Initialization done')"
   ]
  },
  {
   "cell_type": "code",
   "execution_count": 26,
   "id": "6319c5de",
   "metadata": {},
   "outputs": [
    {
     "name": "stdout",
     "output_type": "stream",
     "text": [
      "0.0025906735751295338\n"
     ]
    }
   ],
   "source": [
    "class particulas:\n",
    "    \"\"\"\n",
    "    Definición de los objetos de la clase partículas\n",
    "    \n",
    "    Attributes\n",
    "    ----------\n",
    "    nombre: char\n",
    "        nombre de la particula\n",
    "    carga: float\n",
    "        carga de la partícula\n",
    "    masa: float\n",
    "        masa de la partícula\n",
    "    pos: vector?\n",
    "        posición de la partícula\n",
    "    \"\"\"\n",
    "    \n",
    "    def __init__(self,nombre,carga,masa,posx,posy,posz): # método de inicialización de un objeto. \n",
    "        \"\"\"\n",
    "        Inicialización\n",
    "        \n",
    "        Parameters\n",
    "        ----------\n",
    "        nombre: char\n",
    "            nombre de la particula\n",
    "        carga: float\n",
    "            carga de la partícula\n",
    "        masa: float\n",
    "            masa de la partícula\n",
    "        posx: float\n",
    "            posición x de la partícula\n",
    "        posy: float\n",
    "            posición y de la partícula\n",
    "        posz: float\n",
    "            posición z de la partícula\n",
    "        \"\"\"\n",
    "        self.nombre=nombre # self representa el nombre del obeto y \n",
    "                 \n",
    "        self.carga=carga # carga de la partícula\n",
    "        \n",
    "        self.masa=masa # masa de la partícula \n",
    "                 \n",
    "        self.posx=posx # atributo de la posición x\n",
    "        \n",
    "        self.posy=posy # atributo de la posición y\n",
    "        \n",
    "        self.posz=posz # atributo de la posición z\n",
    "    \n",
    "    def force_con(self,p): # Funcion de la fuerza de coulomb\n",
    "        \"\"\"\n",
    "        Fuerza de Coulon\n",
    "        \n",
    "        Parameters\n",
    "        ----------\n",
    "        u: class vector\n",
    "            vector sobre el que se calcula la fuerza\n",
    " \n",
    "        Returns\n",
    "        -------\n",
    "        float\n",
    "            Fuerza con u\n",
    "        \"\"\"\n",
    "        force=-(self.carga*p.carga)/((self.posx-p.posx)**2+(self.posy-p.posy)**2+(self.posz-p.posz)**2)\n",
    "        return force\n",
    "\n",
    "p1=particulas('electron',-1,1,4,10,-3)\n",
    "p2=particulas('proton',1,2000,20,-1,0)\n",
    "p3=particulas('alpha',2,4000,2,0,-10)\n",
    "\n",
    "print( p1.force_con(p2))"
   ]
  },
  {
   "cell_type": "markdown",
   "id": "3e665cc4",
   "metadata": {},
   "source": [
    "## Ejercicio 7.2.4: Definición y desempaquetado de listas"
   ]
  },
  {
   "cell_type": "code",
   "execution_count": 47,
   "id": "31322f60",
   "metadata": {},
   "outputs": [
    {
     "name": "stdout",
     "output_type": "stream",
     "text": [
      "[17, 7, 17, 20, 3, 18, 12, 5, 12, 12]\n",
      "[17, 17, 20, 18, 12, 12, 12]\n"
     ]
    }
   ],
   "source": [
    "from random import randint\n",
    "\n",
    "lista1=[randint(1, 20) for n in range(0,10) if n<20]\n",
    "print(lista1)\n",
    "\n",
    "lista2=[i for i in lista1 if i>7]\n",
    "print(lista2)\n",
    "\n",
    "\n",
    "elemento1=lista2[0]\n",
    "elementof=lista2[-1]"
   ]
  },
  {
   "cell_type": "markdown",
   "id": "7b431ef3",
   "metadata": {},
   "source": [
    "## Ejercicio 7.2.8: Listas de listas y copias de listas"
   ]
  },
  {
   "cell_type": "code",
   "execution_count": 6,
   "id": "98fd1ffb",
   "metadata": {},
   "outputs": [
    {
     "name": "stdout",
     "output_type": "stream",
     "text": [
      "20\n"
     ]
    }
   ],
   "source": [
    "a=[[20,15],[14,17],[21,13],[19,23]]\n",
    "print(a[0][0])\n"
   ]
  },
  {
   "cell_type": "code",
   "execution_count": 9,
   "id": "79581bcf",
   "metadata": {},
   "outputs": [
    {
     "name": "stdout",
     "output_type": "stream",
     "text": [
      "[[20, 15], [14, 17], [21, 13], [19, 23]]\n"
     ]
    }
   ],
   "source": [
    "from copy import deepcopy\n",
    "a=[[20,15],[14,17],[21,13],[19,23]]\n",
    "b=deepcopy(a)\n",
    "b[0][0]=5\n",
    "print(a)"
   ]
  },
  {
   "cell_type": "code",
   "execution_count": 2,
   "id": "0a1f1792",
   "metadata": {},
   "outputs": [
    {
     "name": "stdout",
     "output_type": "stream",
     "text": [
      "1.-------\n",
      "[[20, 15], [14, 17], [21, 13], [19, 23]]\n",
      "2.-------\n",
      "[[20, 15], [14, 17], [21, 13], [19, 23], [14, 17]]\n",
      "3.-------\n",
      "[20, 15]\n",
      "[19, 23]\n",
      "4.-------\n",
      "[[14, 17], [21, 13], [14, 17]]\n",
      "5.-------\n",
      "[[14, 17], [21, 13], [14, 17]]\n",
      "1876492469632\n",
      "1876455773760\n",
      "1876492468416\n",
      "1876492468416\n",
      "False\n",
      "6.-------\n",
      "[[14, 17], [19, 23], [14, 17]]\n",
      "7.-------\n",
      "1876492470464\n",
      "1876492468416\n",
      "1876492469824\n"
     ]
    }
   ],
   "source": [
    "print('1.-------')\n",
    "a=[[20,15],[14,17],[21,13],[19,23]]; print(a)\n",
    "print('2.-------')\n",
    "a.append([14,17]); print(a)\n",
    "print('3.-------')\n",
    "e0,*a1,e4,x=a\n",
    "print(e0)\n",
    "print(e4)\n",
    "print('4.-------')\n",
    "a1.append(x)\n",
    "e1a,*resto =a1\n",
    "print(a1)\n",
    "print('5.-------')\n",
    "b=a1.copy()\n",
    "print(b) \n",
    "e1b,*resto = b\n",
    "print(id(a1))\n",
    "print(id(b))\n",
    "print(id(e1a))\n",
    "print(id(e1b))\n",
    "print(a1 is b)\n",
    "print('6.-------')\n",
    "lista2=[n for n in a if n[0]<20]; print(lista2)\n",
    "print('7.-------')\n",
    "from copy import deepcopy\n",
    "c=deepcopy(a1)\n",
    "e1c,*resto= c\n",
    "print(id(c))\n",
    "print(id(e1a))\n",
    "print(id(e1c)) #se duplica porque no obtenemos el mismo\n",
    "#identificador para los elementos de las dos listas"
   ]
  },
  {
   "cell_type": "markdown",
   "id": "b0b344e2",
   "metadata": {},
   "source": [
    "## Ejercicio 7.4.6"
   ]
  },
  {
   "cell_type": "code",
   "execution_count": 23,
   "id": "95ea4492",
   "metadata": {},
   "outputs": [
    {
     "name": "stdout",
     "output_type": "stream",
     "text": [
      "[{'clase': 'electrón', 'm': 1, 'q': -1, 'posición': (0, 0)}, {'clase': 'protón', 'm': 2000, 'q': 1, 'posición': (0, 0)}]\n",
      "-------\n",
      "[{'clase': 'electrón', 'm': 1, 'q': -1, 'posición': (0, 0), 'velocidad': '(0,0)'}, {'clase': 'protón', 'm': 2000, 'q': 1, 'posición': (0, 0), 'velocidad': '(0,0)'}]\n",
      "-------\n",
      "electrón\n",
      "No es lo que busco\n",
      "1\n",
      "No es lo que busco\n",
      "-1\n",
      "No es lo que busco\n",
      "(0, 0)\n",
      "No es lo que busco\n",
      "(0,0)\n",
      "No es lo que busco\n",
      "protón\n",
      "No es lo que busco\n",
      "2000\n",
      "No es lo que busco\n",
      "1\n",
      "No es lo que busco\n",
      "(0, 0)\n",
      "No es lo que busco\n",
      "(0,0)\n",
      "No es lo que busco\n",
      "Partícula aún sin descubrir. Los átomos son esferas positivas donde se incrustan los electrones\n",
      "-------\n",
      "[{'clase': 'electrón', 'm': 1, 'q': -1, 'posición': (0, 0), 'velocidad': '(0,0)'}, {'clase': 'protón', 'm': 2000, 'q': 1, 'posición': (0, 0), 'velocidad': '(0,0)'}, 'isabelonio', {'clase': 'isabelonio', 'm': 45, 'q': 45, 'posición': (45, 45)}]\n"
     ]
    }
   ],
   "source": [
    "p1={'clase':'electrón','m':1, 'q':-1, 'posición': (0,0)}\n",
    "p2={'clase':'protón','m':2000, 'q':1, 'posición': (0,0)}\n",
    "partículas=[p1,p2]\n",
    "print(partículas)\n",
    "print('-------')\n",
    "\n",
    "for n in range(0, len(partículas)):\n",
    "    partículas[n].update({\"velocidad\": \"(0,0)\"})\n",
    "\n",
    "print(partículas)\n",
    "print('-------')\n",
    "\n",
    "for n in range(0, len(partículas)):  # loop sobre valores\n",
    "    for el in partículas[n].values():\n",
    "        print(el)\n",
    "        if (el=='neutrón'):\n",
    "            print(' Sí que está el nuetrón. El neutrón fue descubierto en 1932')\n",
    "        else:\n",
    "            print('No es lo que busco')\n",
    "print('Partícula aún sin descubrir. Los átomos son esferas positivas donde se incrustan los electrones')\n",
    "print('-------')\n",
    "\n",
    "p3='isabelonio'\n",
    "p4={'clase':'isabelonio','m':45, 'q':45, 'posición': (45,45)}\n",
    "partículas.append(p3)\n",
    "partículas.append(p4)\n",
    "print(partículas)"
   ]
  },
  {
   "cell_type": "markdown",
   "id": "b2215b07",
   "metadata": {},
   "source": [
    "## Ejercicio 7.5.2"
   ]
  },
  {
   "cell_type": "code",
   "execution_count": 83,
   "id": "3f3f6f01",
   "metadata": {},
   "outputs": [
    {
     "name": "stdout",
     "output_type": "stream",
     "text": [
      "{1, 2, 3, 4, 5, 6, 7}\n",
      "el elemento  1  está en posición  0\n",
      "el elemento  2  está en posición  1\n",
      "el elemento  3  está en posición  2\n",
      "el elemento  4  está en posición  3\n",
      "el elemento  5  está en posición  4\n",
      "el elemento  6  está en posición  5\n",
      "el elemento  7  está en posición  6\n",
      "[3, 6, 6, 6, 3, 3, 1]\n",
      "{1: 3, 2: 6, 3: 6, 4: 6, 5: 3, 6: 3, 7: 1}\n"
     ]
    }
   ],
   "source": [
    "mi_lista=[1,2,3,2,5,4,2,3,1,6,4,3,4,2,6,5,4,3,1,7,6,5,4,3,4,2,2,3]\n",
    "a = set(mi_lista); print(a)\n",
    "b=list(a)\n",
    "c = list(0 for i in range(len(a)))\n",
    "dicc={}\n",
    "for iel, el in enumerate(a):\n",
    "    print('el elemento ',el,' está en posición ', iel)\n",
    "    c[iel]=mi_lista.count(el)\n",
    "    d1 = {b[iel]: c[iel]}\n",
    "    dicc.update(d1)\n",
    "    \n",
    "print(c)\n",
    "print(dicc)\n"
   ]
  },
  {
   "cell_type": "markdown",
   "id": "956993ee",
   "metadata": {},
   "source": [
    "## Ejercicio 7.6.4"
   ]
  },
  {
   "cell_type": "code",
   "execution_count": 87,
   "id": "63fc8bab",
   "metadata": {},
   "outputs": [
    {
     "name": "stdout",
     "output_type": "stream",
     "text": [
      " José\n",
      " Carla\n",
      "{' Manuel': 1, ' José': 1, ' Carla': 2}\n",
      "Informe de resultados:\n",
      "-El nombre Manuel aparece 1 veces \n",
      "-El nombre José aparece 1 veces \n",
      "-El nombre Carla aparece 2 veces.\n",
      "El plural es difícil\n"
     ]
    }
   ],
   "source": [
    "a=['Alcántara, Manuel', 'rodríguez , josé', 'Rodríguez, Carla', 'alcántara,carla']\n",
    "\n",
    "p1=a[0].split(',')\n",
    "p2=a[1].split(', ')\n",
    "p2[1]=str(p2[1]).capitalize() \n",
    "p3=a[2].split(',')\n",
    "p4=a[3].split(',')\n",
    "p4[1]=str(p4[1]).capitalize()# return a string with first letter capitalised only.\n",
    "\n",
    "add_string = \" \"\n",
    "p2[1] = add_string + p2[1]\n",
    "\n",
    "add_string = \" \"\n",
    "p4[1] = add_string + p4[1]\n",
    "\n",
    "print(p2[1])\n",
    "print(p4[1])\n",
    "\n",
    "b=[p1[1],p2[1],p3[1],p4[1]]\n",
    "dizionario={}\n",
    "c = list(0 for i in range(len(b)))\n",
    "for iel, el in enumerate(b):\n",
    "    c[iel]=b.count(el)\n",
    "    d1 = {b[iel]: c[iel]}\n",
    "    dizionario.update(d1)\n",
    "    \n",
    "print(dizionario)\n",
    "\n",
    "texto=\"\"\"Informe de resultados:\n",
    "-El nombre{0:s} aparece {1:d} veces \n",
    "-El nombre{2:s} aparece {3:d} veces \n",
    "-El nombre{4:s} aparece {5:d} veces.\n",
    "El plural es difícil\"\"\".format(p1[1], c[0], p2[1],c[1],p3[1],c[2])\n",
    "\n",
    "print(texto)"
   ]
  },
  {
   "cell_type": "markdown",
   "id": "3f195ad4",
   "metadata": {},
   "source": [
    "## Ejercicio 9.7"
   ]
  },
  {
   "cell_type": "code",
   "execution_count": 7,
   "id": "8188bc3f",
   "metadata": {},
   "outputs": [
    {
     "name": "stdout",
     "output_type": "stream",
     "text": [
      "[3, 3, 5]\n",
      "[2, 2, 6]\n",
      "[1, 32, 243]\n"
     ]
    }
   ],
   "source": [
    "l1=[1,2,3]\n",
    "l2=[2,1,2]\n",
    "\n",
    "def f(arg1,arg2,arg3):\n",
    "    a = list(0 for i in range(len(arg1)))\n",
    "    if (type(arg3)==str and type(arg2)==list):\n",
    "        if arg3=='producto':\n",
    "            for el in arg1:\n",
    "                a[el-1]=arg1[el-1]*arg2[el-1]\n",
    "            return a\n",
    "        elif arg3=='suma':\n",
    "            for el in arg1:\n",
    "                a[el-1]=arg1[el-1]+arg2[el-1]\n",
    "            return a\n",
    "        else:\n",
    "            a=99999999999\n",
    "            print('operación no definida')\n",
    "            return a\n",
    "    elif (type(arg2)==str and type(arg3)==int):\n",
    "        if arg2=='potencia':\n",
    "            for el in arg1:\n",
    "                 a[el-1]=arg1[el-1]**arg3\n",
    "            return a\n",
    "    elif (type(arg1)==str or type(arg1)==int):\n",
    "            a=77777777\n",
    "            print('operación no definida')\n",
    "            return a\n",
    "    else:\n",
    "        a=99999999999\n",
    "        print('operación no definida')\n",
    "        return a\n",
    "\n",
    "print(f(l1,l2,'suma'))\n",
    "print(f(l1,l2,'producto'))\n",
    "print(f(l1,'potencia',5))"
   ]
  },
  {
   "cell_type": "markdown",
   "id": "f1cabf74",
   "metadata": {},
   "source": [
    "## Ejercicio 9.8.3"
   ]
  },
  {
   "cell_type": "code",
   "execution_count": 57,
   "id": "666c4fcb",
   "metadata": {},
   "outputs": [
    {
     "name": "stdout",
     "output_type": "stream",
     "text": [
      "[4, 8]\n"
     ]
    }
   ],
   "source": [
    "def f(n):\n",
    "    l1=[lambda n : n **2,lambda n: n**3] #lista de funciones\n",
    "    return [l1[0](n),l1[1](n)]\n",
    "\n",
    "print(f(2))\n"
   ]
  },
  {
   "cell_type": "markdown",
   "id": "a0fcd851",
   "metadata": {},
   "source": [
    "## Ejercicio 10.2"
   ]
  },
  {
   "cell_type": "code",
   "execution_count": 10,
   "id": "ace31370",
   "metadata": {},
   "outputs": [
    {
     "name": "stdout",
     "output_type": "stream",
     "text": [
      "******\n",
      "['a', '3', 'b', \"'hola'\", 'c', '4']\n",
      "{'a': '3', 'b': \"'hola'\", 'c': '4'}\n",
      "***\n"
     ]
    }
   ],
   "source": [
    "texto = [\n",
    "    \"Linea sin variable\",\n",
    "    \"$a=3  $ b= 'hola'\",\n",
    "    \"$c = 4\",\n",
    "]\n",
    "\n",
    "file = open(\"ficherocreado.txt\", \"w\")\n",
    "\n",
    "for line in texto:\n",
    "    file.write(line + \"\\n\")\n",
    "    \n",
    "file.close()\n",
    "\n",
    "dictionary = {}\n",
    "file=open('ficherocreado.txt', 'r')\n",
    "print (\"******\")\n",
    "datos2 = []\n",
    "with open(\"ficherocreado.txt\") as fname:\n",
    "    for linea in fname:\n",
    "        if \"$\" in linea:\n",
    "            linea=linea.replace('$', '')\n",
    "            linea=linea.replace('  ',' ')\n",
    "            linea=linea.replace('=',' ')\n",
    "            linea=linea.replace('','')\n",
    "            datos2.extend(linea.split())\n",
    "             \n",
    "print (datos2)\n",
    "dictionary[datos2[0]] = datos2[1]\n",
    "dictionary[datos2[2]] = datos2[3]\n",
    "dictionary[datos2[4]] = datos2[5]\n",
    "print(dictionary)\n",
    "print (\"***\")"
   ]
  }
 ],
 "metadata": {
  "kernelspec": {
   "display_name": "Python 3 (ipykernel)",
   "language": "python",
   "name": "python3"
  },
  "language_info": {
   "codemirror_mode": {
    "name": "ipython",
    "version": 3
   },
   "file_extension": ".py",
   "mimetype": "text/x-python",
   "name": "python",
   "nbconvert_exporter": "python",
   "pygments_lexer": "ipython3",
   "version": "3.11.4"
  },
  "latex_envs": {
   "LaTeX_envs_menu_present": true,
   "autoclose": false,
   "autocomplete": true,
   "bibliofile": "biblio.bib",
   "cite_by": "apalike",
   "current_citInitial": 1,
   "eqLabelWithNumbers": true,
   "eqNumInitial": 1,
   "hotkeys": {
    "equation": "Ctrl-E",
    "itemize": "Ctrl-I"
   },
   "labels_anchors": false,
   "latex_user_defs": false,
   "report_style_numbering": false,
   "user_envs_cfg": false
  },
  "toc": {
   "base_numbering": 1,
   "nav_menu": {},
   "number_sections": true,
   "sideBar": true,
   "skip_h1_title": true,
   "title_cell": "Tabla de Contenidos",
   "title_sidebar": "Contents",
   "toc_cell": true,
   "toc_position": {},
   "toc_section_display": true,
   "toc_window_display": true
  }
 },
 "nbformat": 4,
 "nbformat_minor": 5
}
