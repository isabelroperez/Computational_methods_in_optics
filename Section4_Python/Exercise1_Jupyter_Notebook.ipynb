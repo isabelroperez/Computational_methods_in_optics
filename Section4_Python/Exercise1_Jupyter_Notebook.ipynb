{
 "cells": [
  {
   "cell_type": "markdown",
   "id": "a703f735",
   "metadata": {},
   "source": [
    "# Ejercicios Tema 1. Jupyter"
   ]
  },
  {
   "cell_type": "markdown",
   "id": "7600d3c9",
   "metadata": {
    "toc": true
   },
   "source": [
    "<h1>Tabla de Contenidos<span class=\"tocSkip\"></span></h1>\n",
    "<div class=\"toc\"><ul class=\"toc-item\"><li><span><a href=\"#Ejercicio-2.1\" data-toc-modified-id=\"Ejercicio-2.1-1\"><span class=\"toc-item-num\">1&nbsp;&nbsp;</span>Ejercicio 2.1</a></span></li><li><span><a href=\"#Ejercicio-4.3\" data-toc-modified-id=\"Ejercicio-4.3-2\"><span class=\"toc-item-num\">2&nbsp;&nbsp;</span>Ejercicio 4.3</a></span></li><li><span><a href=\"#Ejercicio-5\" data-toc-modified-id=\"Ejercicio-5-3\"><span class=\"toc-item-num\">3&nbsp;&nbsp;</span>Ejercicio 5</a></span></li><li><span><a href=\"#Lista-numerada\" data-toc-modified-id=\"Lista-numerada-4\"><span class=\"toc-item-num\">4&nbsp;&nbsp;</span>Lista numerada</a></span></li><li><span><a href=\"#Lista-no-numerada\" data-toc-modified-id=\"Lista-no-numerada-5\"><span class=\"toc-item-num\">5&nbsp;&nbsp;</span>Lista no numerada</a></span></li><li><span><a href=\"#strings-&quot;f&quot;-con-formato\" data-toc-modified-id=\"strings-&quot;f&quot;-con-formato-6\"><span class=\"toc-item-num\">6&nbsp;&nbsp;</span>strings \"f\" con formato</a></span></li><li><span><a href=\"#*kwargs\" data-toc-modified-id=\"*kwargs-7\"><span class=\"toc-item-num\">7&nbsp;&nbsp;</span><em>*kwargs</em></a></span></li><li><span><a href=\"#ndarrays-(I)\" data-toc-modified-id=\"ndarrays-(I)-8\"><span class=\"toc-item-num\">8&nbsp;&nbsp;</span>ndarrays (I)</a></span></li></ul></div>"
   ]
  },
  {
   "cell_type": "markdown",
   "id": "896a11ea",
   "metadata": {},
   "source": [
    "## Ejercicio 2.1\n",
    "\n",
    "Python es también una filosofía de programación\n"
   ]
  },
  {
   "cell_type": "code",
   "execution_count": 6,
   "id": "1acf1e9c",
   "metadata": {},
   "outputs": [],
   "source": [
    "import this"
   ]
  },
  {
   "cell_type": "markdown",
   "id": "2eb0de3a",
   "metadata": {},
   "source": [
    "## Ejercicio 4.3\n",
    "\n",
    "*UNIX* es un sistema operativo muy utilizado. Muchas de sus versiones son de **acceso abierto**, es decir ***gratuitas***. Utilizar *UNIX* de forma básica, no es complicado. Por ejemplo, para saber en qué directorio estamos, podemos escribir en la terminal\n",
    "\n",
    "```terminal\n",
    "$ pwd\n",
    "```\n",
    "También permite ejecutar comando de *python* directamente en la terminal. Por ejemplo, para ejecutar el comando de *python* \n",
    "```python\n",
    "print('hola mundo')\n",
    "```\n",
    "basta con escribir en la terminal\n",
    "```terminal\n",
    "$ python -c \"print('hola mundo')\"\n",
    "```\n",
    "y verás que en la pantalla aparece lo siguiente\n",
    "~~~\n",
    "hola mundo\n",
    "$\n",
    "~~~\n",
    "\n",
    "Mensaje para llevar a casa:\n",
    "\n",
    "> *UNIX* es de acceso abierto y muy útil."
   ]
  },
  {
   "cell_type": "markdown",
   "id": "3cad657d",
   "metadata": {},
   "source": [
    "## Ejercicio 5\n",
    "\n",
    "<div>\n",
    "<img src=\"5-Ejercicios_images/usal.png\" width=\"90\" align=\"left\"/>\n",
    "</div>\n",
    "\n",
    "<br>\n",
    "<br>\n",
    "<br>\n",
    "<br>\n",
    "<br>\n",
    "hola $x^{2}$\n",
    "$\\color{blue}{\\Large \\text{Algunas fórmulas de LaTeX}}$ \n",
    "\n",
    " Fórmula        | Código \n",
    "  ------------- | -------------\n",
    "$x^{2}$         | x^2\n",
    "$\\sqrt{x}$      | \\sqrt{x}"
   ]
  },
  {
   "cell_type": "markdown",
   "id": "9dcbbd5e",
   "metadata": {},
   "source": [
    "## Lista numerada\n",
    "1. primero\n",
    "2. segundo\n",
    "\n",
    "## Lista no numerada\n",
    "- primero\n",
    "- segundo\n",
    "\n",
    "## strings \"f\" con formato"
   ]
  },
  {
   "cell_type": "code",
   "execution_count": 12,
   "id": "a5615864",
   "metadata": {},
   "outputs": [
    {
     "name": "stdout",
     "output_type": "stream",
     "text": [
      "Tenemos nos gastos de 2.32323e+03 y nuestros sueldo es 1.23457e+02 \n",
      "por lo que el saldo sería de  -2.19978e+03,\n",
      "estamos en números rojos\n"
     ]
    }
   ],
   "source": [
    "a=2323.2323232\n",
    "b=123.4567\n",
    "\n",
    "str1=f\"\"\"Tenemos nos gastos de {a:.5e} y nuestros sueldo es {b:.5e} \n",
    "por lo que el saldo sería de  {b-a:.5e},\n",
    "estamos en números rojos\"\"\"\n",
    "print(str1)"
   ]
  },
  {
   "cell_type": "markdown",
   "id": "1e553527",
   "metadata": {},
   "source": [
    "## **kwargs*"
   ]
  },
  {
   "cell_type": "code",
   "execution_count": 2,
   "id": "96af2c7a",
   "metadata": {},
   "outputs": [
    {
     "name": "stdout",
     "output_type": "stream",
     "text": [
      "La suma es: 5.5\n",
      "\n",
      "Consejos:\n",
      "amor - Llama a tu madre.\n",
      "salud - Mírate ese lunar y ponte crema solar.\n",
      "dinero - No inviertas en bitcoins.\n",
      "futuro : NOT FOUND\n",
      "Nuestra inteligencia articifial está en desarrollo.\n"
     ]
    }
   ],
   "source": [
    "def suma(x, y, **kwargs):\n",
    "    if ((type(x)==float or type(x)==int)  and (type(y)==float or type(y)==int)):\n",
    "        sumando=x+y\n",
    "        print ('La suma es:',sumando)\n",
    "        print()\n",
    "        print('Consejos:')\n",
    "        for key, value in kwargs.items():\n",
    "            if value==\"amor\":\n",
    "              print(value,'-','Llama a tu madre.')\n",
    "            elif value==\"salud\":\n",
    "              print(value,'-','Mírate ese lunar y ponte crema solar.')\n",
    "            elif value==\"dinero\":\n",
    "              print(value,'-','No inviertas en bitcoins.')\n",
    "            else:\n",
    "              print(value, ': NOT FOUND' )\n",
    "              print ('Nuestra inteligencia articifial está en desarrollo.')\n",
    "    else:\n",
    "      print('error')  \n",
    "\n",
    "suma(2.3, 3.2, a = \"amor\", b = \"salud\", c = \"dinero\", d = \"futuro\")"
   ]
  },
  {
   "cell_type": "markdown",
   "id": "fab099f1",
   "metadata": {},
   "source": [
    "## ndarrays (I)"
   ]
  },
  {
   "cell_type": "code",
   "execution_count": 3,
   "id": "f1f84577",
   "metadata": {},
   "outputs": [
    {
     "name": "stdout",
     "output_type": "stream",
     "text": [
      "[[0 1]\n",
      " [2 3]\n",
      " [4 5]\n",
      " [6 7]]\n"
     ]
    },
    {
     "data": {
      "text/plain": [
       "array([1, 3, 5, 7])"
      ]
     },
     "execution_count": 3,
     "metadata": {},
     "output_type": "execute_result"
    }
   ],
   "source": [
    "from numpy import array\n",
    "lista333=[1,2,3,4,5,6,7,8]\n",
    "array_nuestro=array([n for n in range(len(lista333))]).reshape(4,2)\n",
    "print(array_nuestro)\n",
    "array_nuestro[:,1]"
   ]
  }
 ],
 "metadata": {
  "kernelspec": {
   "display_name": "Python 3 (ipykernel)",
   "language": "python",
   "name": "python3"
  },
  "language_info": {
   "codemirror_mode": {
    "name": "ipython",
    "version": 3
   },
   "file_extension": ".py",
   "mimetype": "text/x-python",
   "name": "python",
   "nbconvert_exporter": "python",
   "pygments_lexer": "ipython3",
   "version": "3.9.7"
  },
  "latex_envs": {
   "LaTeX_envs_menu_present": true,
   "autoclose": false,
   "autocomplete": true,
   "bibliofile": "biblio.bib",
   "cite_by": "apalike",
   "current_citInitial": 1,
   "eqLabelWithNumbers": true,
   "eqNumInitial": 1,
   "hotkeys": {
    "equation": "Ctrl-E",
    "itemize": "Ctrl-I"
   },
   "labels_anchors": false,
   "latex_user_defs": false,
   "report_style_numbering": false,
   "user_envs_cfg": false
  },
  "toc": {
   "base_numbering": 1,
   "nav_menu": {},
   "number_sections": true,
   "sideBar": true,
   "skip_h1_title": true,
   "title_cell": "Tabla de Contenidos",
   "title_sidebar": "Contents",
   "toc_cell": true,
   "toc_position": {
    "height": "529.167px",
    "left": "388px",
    "top": "166.633px",
    "width": "320px"
   },
   "toc_section_display": true,
   "toc_window_display": true
  }
 },
 "nbformat": 4,
 "nbformat_minor": 5
}
